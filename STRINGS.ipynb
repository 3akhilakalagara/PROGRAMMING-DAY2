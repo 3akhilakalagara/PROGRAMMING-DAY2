{
  "nbformat": 4,
  "nbformat_minor": 0,
  "metadata": {
    "colab": {
      "provenance": []
    },
    "kernelspec": {
      "name": "python3",
      "display_name": "Python 3"
    },
    "language_info": {
      "name": "python"
    }
  },
  "cells": [
    {
      "cell_type": "markdown",
      "source": [
        "**PRINT VOWELS OR CONSONANTS**"
      ],
      "metadata": {
        "id": "TxGpribo6vkt"
      }
    },
    {
      "cell_type": "code",
      "execution_count": 1,
      "metadata": {
        "colab": {
          "base_uri": "https://localhost:8080/"
        },
        "id": "WnxeVB_R6nqr",
        "outputId": "b1e259db-461b-41fd-edbc-d50d5ac179fb"
      },
      "outputs": [
        {
          "output_type": "stream",
          "name": "stdout",
          "text": [
            "l\n",
            "Consonant\n"
          ]
        }
      ],
      "source": [
        "c = input()\n",
        "if(c=='a' or c=='e' or c=='i' or c=='o' or c=='u' or c=='A' or c=='E' or c=='I' or c=='O' or c=='U'):\n",
        "  print(\"Vowel\")\n",
        "else:\n",
        "  print(\"Consonant\")"
      ]
    },
    {
      "cell_type": "markdown",
      "source": [
        "**COUNT OF VOWELS IN A STRING**"
      ],
      "metadata": {
        "id": "4tmFMq337wbB"
      }
    },
    {
      "cell_type": "code",
      "source": [
        "a = input()\n",
        "v = 0\n",
        "c = 0\n",
        "for i in a:\n",
        "  if(i=='a' or i=='e' or i=='i' or i=='o' or i=='u' or i=='A' or i=='E' or i=='I' or i=='O' or i=='U'):\n",
        "    v+=1\n",
        "  else:\n",
        "    c+=1\n",
        "print(\"Vowels:\",v)\n",
        "print(\"Consonants:\",c)"
      ],
      "metadata": {
        "colab": {
          "base_uri": "https://localhost:8080/"
        },
        "id": "oMscwBSw7Huk",
        "outputId": "05a7f2cb-f27c-4d34-c4d9-66087ce01f8d"
      },
      "execution_count": 2,
      "outputs": [
        {
          "output_type": "stream",
          "name": "stdout",
          "text": [
            "Akhila\n",
            "Vowels: 3\n",
            "Consonants: 3\n"
          ]
        }
      ]
    },
    {
      "cell_type": "markdown",
      "source": [
        "**A CHARACTER IS ALPHABET OR NOT**\n",
        "ASCII VALUES : *A TO Z(65 TO 90)*\n",
        "                   *a to z(97 to 122)*\n"
      ],
      "metadata": {
        "id": "krt997jk9ALQ"
      }
    },
    {
      "cell_type": "code",
      "source": [
        "ch = input()\n",
        "if 'a'<=ch<='z' or 'A'<=ch<='Z':\n",
        "  print(\"Alphabet\")\n",
        "else:\n",
        "  print(\"Not an alphabet\")"
      ],
      "metadata": {
        "colab": {
          "base_uri": "https://localhost:8080/"
        },
        "id": "GPUg6W-_8_Pe",
        "outputId": "3c284488-0d82-4f42-8684-bd89dfc1fb92"
      },
      "execution_count": 9,
      "outputs": [
        {
          "output_type": "stream",
          "name": "stdout",
          "text": [
            "Akhila\n",
            "Alphabet\n"
          ]
        }
      ]
    },
    {
      "cell_type": "markdown",
      "source": [
        "**FIND THE ASCII VALUE OF THE CHARACTER**\n",
        "\n",
        "\n",
        "\n",
        "\n",
        "\n",
        "\n"
      ],
      "metadata": {
        "id": "ntGZEg5l-xl5"
      }
    },
    {
      "cell_type": "code",
      "source": [
        "a = input()\n",
        "print(ord(a))\n"
      ],
      "metadata": {
        "colab": {
          "base_uri": "https://localhost:8080/"
        },
        "id": "5GYfkKGB_jDG",
        "outputId": "5ba3a453-de5c-4ee5-d6fb-2529438efe7a"
      },
      "execution_count": 16,
      "outputs": [
        {
          "output_type": "stream",
          "name": "stdout",
          "text": [
            "A\n",
            "65\n"
          ]
        }
      ]
    },
    {
      "cell_type": "markdown",
      "source": [
        "**FIND THE LENGTH OF STRING WITHOUT USING \"STR LEN\"**"
      ],
      "metadata": {
        "id": "s8Sx0dIqA3i-"
      }
    },
    {
      "cell_type": "code",
      "source": [
        "s = input()\n",
        "c = 0\n",
        "for i in s:\n",
        "  c+=1\n",
        "print(c)"
      ],
      "metadata": {
        "colab": {
          "base_uri": "https://localhost:8080/"
        },
        "id": "NOR8b6m0BEaR",
        "outputId": "8c613bcd-958a-4f9a-9641-03023f42b6c4"
      },
      "execution_count": 17,
      "outputs": [
        {
          "output_type": "stream",
          "name": "stdout",
          "text": [
            "akhila\n",
            "6\n"
          ]
        }
      ]
    },
    {
      "cell_type": "code",
      "source": [
        "a =[6,5,4]\n",
        "a.sort()\n",
        "print(a)"
      ],
      "metadata": {
        "colab": {
          "base_uri": "https://localhost:8080/"
        },
        "id": "juEQVyveBtf1",
        "outputId": "385f9a30-367a-4fed-d5cc-1346ef952efe"
      },
      "execution_count": 18,
      "outputs": [
        {
          "output_type": "stream",
          "name": "stdout",
          "text": [
            "[4, 5, 6]\n"
          ]
        }
      ]
    },
    {
      "cell_type": "code",
      "source": [
        "a = [5,4,7]\n",
        "b=sorted(a)\n",
        "print(b)"
      ],
      "metadata": {
        "colab": {
          "base_uri": "https://localhost:8080/"
        },
        "id": "lvRpc61bB4F2",
        "outputId": "1b6f3303-592f-49f8-96cd-e2ecb4a16493"
      },
      "execution_count": 19,
      "outputs": [
        {
          "output_type": "stream",
          "name": "stdout",
          "text": [
            "[4, 5, 7]\n"
          ]
        }
      ]
    }
  ]
}